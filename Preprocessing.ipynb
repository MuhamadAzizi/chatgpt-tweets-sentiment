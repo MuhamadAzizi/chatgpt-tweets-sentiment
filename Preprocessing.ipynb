{
 "cells": [
  {
   "cell_type": "markdown",
   "id": "af312d9e",
   "metadata": {},
   "source": [
    "# Analisis Sentimen Opini Masyarakat terhadap ChatGPT sebagai Aplikasi Natural Language Processing"
   ]
  },
  {
   "cell_type": "code",
   "execution_count": 8,
   "id": "cd44f38e",
   "metadata": {},
   "outputs": [
    {
     "data": {
      "text/html": [
       "<div>\n",
       "<style scoped>\n",
       "    .dataframe tbody tr th:only-of-type {\n",
       "        vertical-align: middle;\n",
       "    }\n",
       "\n",
       "    .dataframe tbody tr th {\n",
       "        vertical-align: top;\n",
       "    }\n",
       "\n",
       "    .dataframe thead th {\n",
       "        text-align: right;\n",
       "    }\n",
       "</style>\n",
       "<table border=\"1\" class=\"dataframe\">\n",
       "  <thead>\n",
       "    <tr style=\"text-align: right;\">\n",
       "      <th></th>\n",
       "      <th>date</th>\n",
       "      <th>user_name</th>\n",
       "      <th>text</th>\n",
       "      <th>sentiment</th>\n",
       "    </tr>\n",
       "  </thead>\n",
       "  <tbody>\n",
       "    <tr>\n",
       "      <th>34010</th>\n",
       "      <td>2022-12-26 07:40:17+00:00</td>\n",
       "      <td>Ario Jafarzadeh</td>\n",
       "      <td>This past week, I used #ChatGPT to help me: up...</td>\n",
       "      <td>Positive</td>\n",
       "    </tr>\n",
       "    <tr>\n",
       "      <th>4318</th>\n",
       "      <td>2023-03-27 13:01:36+00:00</td>\n",
       "      <td>Deqode</td>\n",
       "      <td>Let us know if we missed anything.\\n\\nVisit ht...</td>\n",
       "      <td>Negative</td>\n",
       "    </tr>\n",
       "    <tr>\n",
       "      <th>7746</th>\n",
       "      <td>2023-02-07 17:12:40+00:00</td>\n",
       "      <td>Gerard Dusastre</td>\n",
       "      <td>#Google unveils #Bard, , its #ChatGPT rival, o...</td>\n",
       "      <td>Negative</td>\n",
       "    </tr>\n",
       "    <tr>\n",
       "      <th>21560</th>\n",
       "      <td>2023-01-29 19:08:28+00:00</td>\n",
       "      <td>Stainless Willie</td>\n",
       "      <td>#ChatGPT to the Moon\\n                        ...</td>\n",
       "      <td>Neutral</td>\n",
       "    </tr>\n",
       "    <tr>\n",
       "      <th>28377</th>\n",
       "      <td>2023-01-03 06:42:01+00:00</td>\n",
       "      <td>UVisible</td>\n",
       "      <td>Unlock #SEO success with #ChatGPT! Easily gene...</td>\n",
       "      <td>Positive</td>\n",
       "    </tr>\n",
       "    <tr>\n",
       "      <th>17780</th>\n",
       "      <td>2023-03-10 16:43:08+00:00</td>\n",
       "      <td>WunThompsonINTL</td>\n",
       "      <td>In this week's roundup: @VirginAtlantic zero-e...</td>\n",
       "      <td>Neutral</td>\n",
       "    </tr>\n",
       "    <tr>\n",
       "      <th>32499</th>\n",
       "      <td>2023-02-15 05:45:51+00:00</td>\n",
       "      <td>Andre Pawlowski</td>\n",
       "      <td>With all the new hype around AI/ML through #Ch...</td>\n",
       "      <td>Positive</td>\n",
       "    </tr>\n",
       "    <tr>\n",
       "      <th>21232</th>\n",
       "      <td>2023-04-08 14:54:39+00:00</td>\n",
       "      <td>Raoul Galt</td>\n",
       "      <td>How long before #ChatGPT comes preinstalled on...</td>\n",
       "      <td>Neutral</td>\n",
       "    </tr>\n",
       "    <tr>\n",
       "      <th>27354</th>\n",
       "      <td>2023-04-19 17:35:11+00:00</td>\n",
       "      <td>Boston Healthcare Cloud Community</td>\n",
       "      <td>What \"strikes\" the perfect chord for healthcar...</td>\n",
       "      <td>Positive</td>\n",
       "    </tr>\n",
       "    <tr>\n",
       "      <th>21794</th>\n",
       "      <td>2023-04-06 19:44:33+00:00</td>\n",
       "      <td>Klehr Harrison Harvey Branzburg LLP</td>\n",
       "      <td>In this edition of his #Startups &amp;amp; #Entrep...</td>\n",
       "      <td>Neutral</td>\n",
       "    </tr>\n",
       "  </tbody>\n",
       "</table>\n",
       "</div>"
      ],
      "text/plain": [
       "                            date                            user_name  \\\n",
       "34010  2022-12-26 07:40:17+00:00                      Ario Jafarzadeh   \n",
       "4318   2023-03-27 13:01:36+00:00                               Deqode   \n",
       "7746   2023-02-07 17:12:40+00:00                      Gerard Dusastre   \n",
       "21560  2023-01-29 19:08:28+00:00                     Stainless Willie   \n",
       "28377  2023-01-03 06:42:01+00:00                             UVisible   \n",
       "17780  2023-03-10 16:43:08+00:00                      WunThompsonINTL   \n",
       "32499  2023-02-15 05:45:51+00:00                      Andre Pawlowski   \n",
       "21232  2023-04-08 14:54:39+00:00                           Raoul Galt   \n",
       "27354  2023-04-19 17:35:11+00:00    Boston Healthcare Cloud Community   \n",
       "21794  2023-04-06 19:44:33+00:00  Klehr Harrison Harvey Branzburg LLP   \n",
       "\n",
       "                                                    text sentiment  \n",
       "34010  This past week, I used #ChatGPT to help me: up...  Positive  \n",
       "4318   Let us know if we missed anything.\\n\\nVisit ht...  Negative  \n",
       "7746   #Google unveils #Bard, , its #ChatGPT rival, o...  Negative  \n",
       "21560  #ChatGPT to the Moon\\n                        ...   Neutral  \n",
       "28377  Unlock #SEO success with #ChatGPT! Easily gene...  Positive  \n",
       "17780  In this week's roundup: @VirginAtlantic zero-e...   Neutral  \n",
       "32499  With all the new hype around AI/ML through #Ch...  Positive  \n",
       "21232  How long before #ChatGPT comes preinstalled on...   Neutral  \n",
       "27354  What \"strikes\" the perfect chord for healthcar...  Positive  \n",
       "21794  In this edition of his #Startups &amp; #Entrep...   Neutral  "
      ]
     },
     "execution_count": 8,
     "metadata": {},
     "output_type": "execute_result"
    }
   ],
   "source": [
    "import pandas as pd\n",
    "\n",
    "chatgpt_tweets_df = pd.read_csv('dataset/chatgpt_tweets_dataset.csv')\n",
    "chatgpt_tweets_df.sample(10, random_state=8)"
   ]
  },
  {
   "cell_type": "code",
   "execution_count": 9,
   "id": "05070d08",
   "metadata": {},
   "outputs": [],
   "source": [
    "positive = chatgpt_tweets_df[chatgpt_tweets_df['sentiment'] == 'Positive'].sample(5000, random_state=8)\n",
    "neutral = chatgpt_tweets_df[chatgpt_tweets_df['sentiment'] == 'Neutral'].sample(5000, random_state=8)\n",
    "negative = chatgpt_tweets_df[chatgpt_tweets_df['sentiment'] == 'Negative'].sample(5000, random_state=8)\n",
    "\n",
    "chatgpt_tweets_df = pd.concat([positive, neutral, negative]).sample(frac=1, random_state=8).reset_index(drop=True)"
   ]
  },
  {
   "cell_type": "code",
   "execution_count": 10,
   "id": "b54be8c5-71ed-4b25-be78-be5e8d3d64ad",
   "metadata": {},
   "outputs": [
    {
     "data": {
      "text/html": [
       "<div>\n",
       "<style scoped>\n",
       "    .dataframe tbody tr th:only-of-type {\n",
       "        vertical-align: middle;\n",
       "    }\n",
       "\n",
       "    .dataframe tbody tr th {\n",
       "        vertical-align: top;\n",
       "    }\n",
       "\n",
       "    .dataframe thead th {\n",
       "        text-align: right;\n",
       "    }\n",
       "</style>\n",
       "<table border=\"1\" class=\"dataframe\">\n",
       "  <thead>\n",
       "    <tr style=\"text-align: right;\">\n",
       "      <th></th>\n",
       "      <th>date</th>\n",
       "      <th>user_name</th>\n",
       "      <th>text</th>\n",
       "      <th>sentiment</th>\n",
       "    </tr>\n",
       "  </thead>\n",
       "  <tbody>\n",
       "    <tr>\n",
       "      <th>0</th>\n",
       "      <td>2022-12-06 10:57:04+00:00</td>\n",
       "      <td>Abhinay Bhasin</td>\n",
       "      <td>Who called it #googlesearch and not #ChatGPT :p</td>\n",
       "      <td>Negative</td>\n",
       "    </tr>\n",
       "    <tr>\n",
       "      <th>1</th>\n",
       "      <td>2023-04-10 12:45:56+00:00</td>\n",
       "      <td>DiKayo | dikayo.eth ♠️❤️♣️♦️</td>\n",
       "      <td>@pwang I see you’re a fan of #ChatGPT :)</td>\n",
       "      <td>Positive</td>\n",
       "    </tr>\n",
       "    <tr>\n",
       "      <th>2</th>\n",
       "      <td>2023-04-05 19:01:28+00:00</td>\n",
       "      <td>GanWeaving 🐦</td>\n",
       "      <td>Toying around with #p5js, #midjourney and #cha...</td>\n",
       "      <td>Positive</td>\n",
       "    </tr>\n",
       "    <tr>\n",
       "      <th>3</th>\n",
       "      <td>2023-04-09 19:37:05+00:00</td>\n",
       "      <td>Dan Brunelle 5.0</td>\n",
       "      <td>Here’s why ChatGPT requires a phone number to ...</td>\n",
       "      <td>Neutral</td>\n",
       "    </tr>\n",
       "    <tr>\n",
       "      <th>4</th>\n",
       "      <td>2023-02-03 01:13:24+00:00</td>\n",
       "      <td>Timothy Karera</td>\n",
       "      <td>#ChatGPT may be coming for our jobs. Here are ...</td>\n",
       "      <td>Positive</td>\n",
       "    </tr>\n",
       "  </tbody>\n",
       "</table>\n",
       "</div>"
      ],
      "text/plain": [
       "                        date                     user_name  \\\n",
       "0  2022-12-06 10:57:04+00:00                Abhinay Bhasin   \n",
       "1  2023-04-10 12:45:56+00:00  DiKayo | dikayo.eth ♠️❤️♣️♦️   \n",
       "2  2023-04-05 19:01:28+00:00                  GanWeaving 🐦   \n",
       "3  2023-04-09 19:37:05+00:00              Dan Brunelle 5.0   \n",
       "4  2023-02-03 01:13:24+00:00                Timothy Karera   \n",
       "\n",
       "                                                text sentiment  \n",
       "0    Who called it #googlesearch and not #ChatGPT :p  Negative  \n",
       "1           @pwang I see you’re a fan of #ChatGPT :)  Positive  \n",
       "2  Toying around with #p5js, #midjourney and #cha...  Positive  \n",
       "3  Here’s why ChatGPT requires a phone number to ...   Neutral  \n",
       "4  #ChatGPT may be coming for our jobs. Here are ...  Positive  "
      ]
     },
     "execution_count": 10,
     "metadata": {},
     "output_type": "execute_result"
    }
   ],
   "source": [
    "chatgpt_tweets_df.head()"
   ]
  },
  {
   "cell_type": "code",
   "execution_count": 11,
   "id": "6c71335f-e2ac-4f1b-a36c-a0bc24d6d621",
   "metadata": {},
   "outputs": [
    {
     "data": {
      "text/plain": [
       "Negative    5000\n",
       "Positive    5000\n",
       "Neutral     5000\n",
       "Name: sentiment, dtype: int64"
      ]
     },
     "execution_count": 11,
     "metadata": {},
     "output_type": "execute_result"
    }
   ],
   "source": [
    "chatgpt_tweets_df['sentiment'].value_counts()"
   ]
  },
  {
   "cell_type": "markdown",
   "id": "1dddc7b5",
   "metadata": {},
   "source": [
    "## Data Preparation and Preprocessing"
   ]
  },
  {
   "cell_type": "markdown",
   "id": "bbb1e5cf",
   "metadata": {},
   "source": [
    "### Text Filtering and Case Folding"
   ]
  },
  {
   "cell_type": "code",
   "execution_count": 12,
   "id": "8278fde2",
   "metadata": {},
   "outputs": [],
   "source": [
    "import re\n",
    "import html\n",
    "\n",
    "def remove_html_escape(text):\n",
    "    return html.unescape(text)\n",
    "\n",
    "def remove_escape_sequence(text):\n",
    "    escape_sequence_pattern = re.compile(r'[\\n\\t\\r\\\\]')\n",
    "    return escape_sequence_pattern.sub(' ', text)\n",
    "\n",
    "def remove_emojis(text):\n",
    "    emoji_pattern = re.compile('['\n",
    "                              u'\\U0001F600-\\U0001F64F'  # emoticons\n",
    "                              u'\\U0001F300-\\U0001F5FF'  # symbols & pictographs\n",
    "                              u'\\U0001F680-\\U0001F6FF'  # transport & map symbols\n",
    "                              u'\\U0001F1E0-\\U0001F1FF'  # flags (iOS)\n",
    "                              ']+', flags=re.UNICODE)\n",
    "    return emoji_pattern.sub(r'', text)\n",
    "\n",
    "def remove_links(text):\n",
    "    link_pattern = re.compile(r'http[s]?://(?:[a-zA-Z]|[0-9]|[$-_@.&+]|[!*\\\\(\\\\),]|(?:%[0-9a-fA-F][0-9a-fA-F]))+|www(?:\\.[a-zA-Z0-9-]+){2,3}(?:/[a-zA-Z0-9]+)?')\n",
    "    return link_pattern.sub('', text)\n",
    "\n",
    "def remove_slashed_dashed(text):\n",
    "    slashed_dashed_pattern = re.compile(r'[/-]')\n",
    "    return slashed_dashed_pattern.sub(' ', text)\n",
    "\n",
    "def remove_punctuation(text):\n",
    "    punctuation_pattern = re.compile(r'[^\\w\\s]+')\n",
    "    return punctuation_pattern.sub('', text)\n",
    "\n",
    "chatgpt_tweets_df['text'] = chatgpt_tweets_df['text'].apply(remove_html_escape)\n",
    "chatgpt_tweets_df['text'] = chatgpt_tweets_df['text'].apply(remove_escape_sequence)\n",
    "chatgpt_tweets_df['text'] = chatgpt_tweets_df['text'].apply(remove_emojis)\n",
    "chatgpt_tweets_df['text'] = chatgpt_tweets_df['text'].apply(remove_links)\n",
    "chatgpt_tweets_df['text'] = chatgpt_tweets_df['text'].apply(remove_slashed_dashed)\n",
    "chatgpt_tweets_df['text'] = chatgpt_tweets_df['text'].apply(remove_punctuation)\n",
    "chatgpt_tweets_df['text'] = chatgpt_tweets_df['text'].str.replace(r'\\s{2,}', ' ', regex=True)\n",
    "chatgpt_tweets_df['text'] = chatgpt_tweets_df['text'].str.lower()"
   ]
  },
  {
   "cell_type": "markdown",
   "id": "0dfd0e34",
   "metadata": {},
   "source": [
    "### Tokenization"
   ]
  },
  {
   "cell_type": "code",
   "execution_count": 13,
   "id": "5d104f83",
   "metadata": {},
   "outputs": [],
   "source": [
    "from nltk.tokenize import word_tokenize\n",
    "\n",
    "chatgpt_tweets_df['text'] = chatgpt_tweets_df['text'].apply(\n",
    "    lambda x: word_tokenize(x))"
   ]
  },
  {
   "cell_type": "markdown",
   "id": "745d05fb",
   "metadata": {},
   "source": [
    "### Remove Stopwords"
   ]
  },
  {
   "cell_type": "code",
   "execution_count": 14,
   "id": "299f68db",
   "metadata": {},
   "outputs": [],
   "source": [
    "from nltk.corpus import stopwords\n",
    "\n",
    "chatgpt_tweets_df['text'] = chatgpt_tweets_df['text'].apply(\n",
    "    lambda x: [word for word in x if word not in stopwords.words('english')])"
   ]
  },
  {
   "cell_type": "markdown",
   "id": "2968ade5",
   "metadata": {},
   "source": [
    "### Stemming"
   ]
  },
  {
   "cell_type": "code",
   "execution_count": 15,
   "id": "05b473a4",
   "metadata": {},
   "outputs": [],
   "source": [
    "from nltk.stem import PorterStemmer\n",
    "\n",
    "ps = PorterStemmer()\n",
    "chatgpt_tweets_df['text'] = chatgpt_tweets_df['text'].apply(\n",
    "    lambda x: [ps.stem(word) for word in x])"
   ]
  },
  {
   "cell_type": "markdown",
   "id": "e51ae29c",
   "metadata": {},
   "source": [
    "### Vector Conversion"
   ]
  },
  {
   "cell_type": "code",
   "execution_count": 16,
   "id": "d158fffe",
   "metadata": {},
   "outputs": [],
   "source": [
    "from sklearn.feature_extraction.text import CountVectorizer\n",
    "\n",
    "vectorizer = CountVectorizer()\n",
    "vectors = vectorizer.fit_transform(chatgpt_tweets_df['text'].apply(\n",
    "    lambda x: ' '.join(x)))\n",
    "vectors = [vector.toarray()[0] for vector in vectors]"
   ]
  },
  {
   "cell_type": "code",
   "execution_count": 17,
   "id": "33783d66-7d7c-4043-a395-897cae379fc2",
   "metadata": {},
   "outputs": [],
   "source": [
    "import numpy as np\n",
    "\n",
    "X = np.asarray(vectors)\n",
    "y = np.asarray(chatgpt_tweets_df['sentiment'].apply(\n",
    "    lambda x: 0 if x == 'Negative' else 1 if x == 'Positive' else 2 if x == 'Neutral' else x))\n",
    "\n",
    "np.savez_compressed('X.npz', X)\n",
    "np.savez_compressed('y.npz', y)"
   ]
  }
 ],
 "metadata": {
  "kernelspec": {
   "display_name": "Python 3 (ipykernel)",
   "language": "python",
   "name": "python3"
  },
  "language_info": {
   "codemirror_mode": {
    "name": "ipython",
    "version": 3
   },
   "file_extension": ".py",
   "mimetype": "text/x-python",
   "name": "python",
   "nbconvert_exporter": "python",
   "pygments_lexer": "ipython3",
   "version": "3.10.9"
  },
  "toc-autonumbering": false,
  "toc-showtags": false
 },
 "nbformat": 4,
 "nbformat_minor": 5
}
