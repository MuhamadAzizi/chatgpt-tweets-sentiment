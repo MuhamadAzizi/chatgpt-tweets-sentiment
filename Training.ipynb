{
 "cells": [
  {
   "cell_type": "markdown",
   "id": "2c01160c-2d6d-4fb5-bfe2-d43fa28bd8d5",
   "metadata": {},
   "source": [
    "## Training"
   ]
  },
  {
   "cell_type": "code",
   "execution_count": 3,
   "id": "68675c5e-d8a5-46f3-9c2e-169ea39da21d",
   "metadata": {},
   "outputs": [],
   "source": [
    "import time\n",
    "import numpy as np\n",
    "\n",
    "X = np.load('X.npz')['arr_0']\n",
    "y = np.load('y.npz')['arr_0']"
   ]
  },
  {
   "cell_type": "code",
   "execution_count": 4,
   "id": "10941a09-7cd2-4420-af1d-37e6c0e20f6c",
   "metadata": {},
   "outputs": [
    {
     "name": "stdout",
     "output_type": "stream",
     "text": [
      "Total data\t\t: 15000\n",
      "Total training data\t: 12000\n",
      "Total testing data\t: 3000\n"
     ]
    }
   ],
   "source": [
    "from sklearn.model_selection import train_test_split\n",
    "\n",
    "X_train, X_test, y_train, y_test = train_test_split(X, y, test_size=.2, random_state=8)\n",
    "\n",
    "print(f'Total data\\t\\t: {len(X)}')\n",
    "print(f'Total training data\\t: {len(X_train)}')\n",
    "print(f'Total testing data\\t: {len(X_test)}')"
   ]
  },
  {
   "cell_type": "markdown",
   "id": "abe37c62-1830-4b7f-8961-58d6c12e3e98",
   "metadata": {},
   "source": [
    "### Random Forest"
   ]
  },
  {
   "cell_type": "code",
   "execution_count": 5,
   "id": "21cbcbfc-d9a5-49cb-b719-4ddeb3df6be0",
   "metadata": {},
   "outputs": [],
   "source": [
    "from sklearn.ensemble import RandomForestClassifier\n",
    "\n",
    "rf = RandomForestClassifier()\n",
    "rf_start = time.time()\n",
    "rf.fit(X_train, y_train)\n",
    "rf_stop = time.time()"
   ]
  },
  {
   "cell_type": "markdown",
   "id": "d919e296-d161-45f7-ad9d-e3edfaaf1954",
   "metadata": {},
   "source": [
    "### LightGBM"
   ]
  },
  {
   "cell_type": "code",
   "execution_count": 6,
   "id": "d374b287-8d21-4caa-b55e-a49c3a9d1f85",
   "metadata": {},
   "outputs": [],
   "source": [
    "from lightgbm import LGBMClassifier\n",
    "\n",
    "lgbm = LGBMClassifier()\n",
    "lgbm_start = time.time()\n",
    "lgbm.fit(X_train, y_train)\n",
    "lgbm_stop = time.time()"
   ]
  },
  {
   "cell_type": "markdown",
   "id": "0162e70a-40a1-48f7-b51a-8f98e9be53c2",
   "metadata": {},
   "source": [
    "## Evaluasi"
   ]
  },
  {
   "cell_type": "code",
   "execution_count": 7,
   "id": "3ec6afa8-249a-4b46-a9ea-74ec22c9ab8b",
   "metadata": {},
   "outputs": [
    {
     "data": {
      "text/html": [
       "<div>\n",
       "<style scoped>\n",
       "    .dataframe tbody tr th:only-of-type {\n",
       "        vertical-align: middle;\n",
       "    }\n",
       "\n",
       "    .dataframe tbody tr th {\n",
       "        vertical-align: top;\n",
       "    }\n",
       "\n",
       "    .dataframe thead th {\n",
       "        text-align: right;\n",
       "    }\n",
       "</style>\n",
       "<table border=\"1\" class=\"dataframe\">\n",
       "  <thead>\n",
       "    <tr style=\"text-align: right;\">\n",
       "      <th></th>\n",
       "      <th>model</th>\n",
       "      <th>accuracy</th>\n",
       "      <th>precision</th>\n",
       "      <th>recall</th>\n",
       "      <th>execution_time</th>\n",
       "    </tr>\n",
       "  </thead>\n",
       "  <tbody>\n",
       "    <tr>\n",
       "      <th>0</th>\n",
       "      <td>Random Forest</td>\n",
       "      <td>76.23%</td>\n",
       "      <td>77.01%</td>\n",
       "      <td>76.28%</td>\n",
       "      <td>236.247110</td>\n",
       "    </tr>\n",
       "    <tr>\n",
       "      <th>1</th>\n",
       "      <td>LightGBM</td>\n",
       "      <td>75.87%</td>\n",
       "      <td>76.84%</td>\n",
       "      <td>75.92%</td>\n",
       "      <td>5.039798</td>\n",
       "    </tr>\n",
       "  </tbody>\n",
       "</table>\n",
       "</div>"
      ],
      "text/plain": [
       "           model accuracy precision  recall  execution_time\n",
       "0  Random Forest   76.23%    77.01%  76.28%      236.247110\n",
       "1       LightGBM   75.87%    76.84%  75.92%        5.039798"
      ]
     },
     "execution_count": 7,
     "metadata": {},
     "output_type": "execute_result"
    }
   ],
   "source": [
    "import pandas as pd\n",
    "from sklearn.metrics import accuracy_score, precision_score, recall_score\n",
    "\n",
    "y_pred_rf = rf.predict(X_test)\n",
    "rf_accuracy = accuracy_score(y_test, y_pred_rf)\n",
    "rf_precision = precision_score(y_test, y_pred_rf, average='macro')\n",
    "rf_recall = recall_score(y_test, y_pred_rf, average='macro')\n",
    "\n",
    "y_pred_lgbm = lgbm.predict(X_test)\n",
    "lgbm_accuracy = accuracy_score(y_test, y_pred_lgbm)\n",
    "lgbm_precision = precision_score(y_test, y_pred_lgbm, average='macro')\n",
    "lgbm_recall = recall_score(y_test, y_pred_lgbm, average='macro')\n",
    "\n",
    "model_table = pd.DataFrame({\n",
    "    'model': ['Random Forest', 'LightGBM'],\n",
    "    'accuracy': ['{:.2f}%'.format(rf_accuracy*100), '{:.2f}%'.format(lgbm_accuracy*100)],\n",
    "    'precision': ['{:.2f}%'.format(rf_precision*100), '{:.2f}%'.format(lgbm_precision*100)],\n",
    "    'recall': ['{:.2f}%'.format(rf_recall*100), '{:.2f}%'.format(lgbm_recall*100)],\n",
    "    'execution_time': [(rf_stop - rf_start), (lgbm_stop - lgbm_start)]\n",
    "})\n",
    "model_table"
   ]
  },
  {
   "cell_type": "markdown",
   "id": "337e2a6c-6090-486c-a2f2-cf3a3f00a16c",
   "metadata": {},
   "source": [
    "## Hyperparameter Tuning"
   ]
  },
  {
   "cell_type": "markdown",
   "id": "7a07fb48",
   "metadata": {},
   "source": [
    "### Random Forest Tuning"
   ]
  },
  {
   "cell_type": "code",
   "execution_count": null,
   "id": "66e4a3a1-ccdf-482c-bb2e-abd7607cf0bd",
   "metadata": {},
   "outputs": [],
   "source": [
    "from sklearn.model_selection import RandomizedSearchCV\n",
    "\n",
    "rf_hyperparameter = {\n",
    "    'n_estimators': range(100, 1001),\n",
    "    'max_features': ['sqrt', 'log2'],\n",
    "    'max_depth': range(10, 21),\n",
    "    'min_samples_split': range(2, 6),\n",
    "    'min_samples_leaf': range(1, 6)\n",
    "}\n",
    "\n",
    "rf_search = RandomizedSearchCV(rf, rf_hyperparameter, n_iter=10, n_jobs=-1, random_state=8)\n",
    "rf_search.fit(X_train, y_train)\n",
    "\n",
    "print(f'Random Forest Hyperparameter Tuning')\n",
    "print(f'Best score\\t\\t: {rf_search.best_score_}')\n",
    "print(f'Best hyperparameter\\t: {rf_search.best_params_}')"
   ]
  },
  {
   "cell_type": "markdown",
   "id": "f8e494e2",
   "metadata": {},
   "source": [
    "### LightGBM Tuning"
   ]
  },
  {
   "cell_type": "code",
   "execution_count": 1,
   "id": "cdaef1f7",
   "metadata": {},
   "outputs": [
    {
     "ename": "NameError",
     "evalue": "name 'lgbm' is not defined",
     "output_type": "error",
     "traceback": [
      "\u001b[0;31m---------------------------------------------------------------------------\u001b[0m",
      "\u001b[0;31mNameError\u001b[0m                                 Traceback (most recent call last)",
      "Cell \u001b[0;32mIn[1], line 15\u001b[0m\n\u001b[1;32m      1\u001b[0m \u001b[38;5;28;01mfrom\u001b[39;00m \u001b[38;5;21;01msklearn\u001b[39;00m\u001b[38;5;21;01m.\u001b[39;00m\u001b[38;5;21;01mmodel_selection\u001b[39;00m \u001b[38;5;28;01mimport\u001b[39;00m RandomizedSearchCV\n\u001b[1;32m      3\u001b[0m lgbm_hyperparameter \u001b[38;5;241m=\u001b[39m {\n\u001b[1;32m      4\u001b[0m     \u001b[38;5;124m'\u001b[39m\u001b[38;5;124mn_estimators\u001b[39m\u001b[38;5;124m'\u001b[39m: \u001b[38;5;28mrange\u001b[39m(\u001b[38;5;241m50\u001b[39m, \u001b[38;5;241m501\u001b[39m),\n\u001b[1;32m      5\u001b[0m     \u001b[38;5;124m'\u001b[39m\u001b[38;5;124mnum_leaves\u001b[39m\u001b[38;5;124m'\u001b[39m: \u001b[38;5;28mrange\u001b[39m(\u001b[38;5;241m20\u001b[39m, \u001b[38;5;241m101\u001b[39m),\n\u001b[0;32m   (...)\u001b[0m\n\u001b[1;32m     12\u001b[0m     \u001b[38;5;124m'\u001b[39m\u001b[38;5;124mobjective\u001b[39m\u001b[38;5;124m'\u001b[39m: [\u001b[38;5;124m'\u001b[39m\u001b[38;5;124mmulticlass\u001b[39m\u001b[38;5;124m'\u001b[39m]\n\u001b[1;32m     13\u001b[0m }\n\u001b[0;32m---> 15\u001b[0m lgbm_search \u001b[38;5;241m=\u001b[39m RandomizedSearchCV(\u001b[43mlgbm\u001b[49m, lgbm_hyperparameter, n_iter\u001b[38;5;241m=\u001b[39m\u001b[38;5;241m10\u001b[39m, n_jobs\u001b[38;5;241m=\u001b[39m\u001b[38;5;241m-\u001b[39m\u001b[38;5;241m1\u001b[39m, random_state\u001b[38;5;241m=\u001b[39m\u001b[38;5;241m8\u001b[39m)\n\u001b[1;32m     16\u001b[0m lgbm_search\u001b[38;5;241m.\u001b[39mfit(X_train, y_train)\n\u001b[1;32m     18\u001b[0m \u001b[38;5;28mprint\u001b[39m(\u001b[38;5;124mf\u001b[39m\u001b[38;5;124m'\u001b[39m\u001b[38;5;124mLightGBM Hyperparameter Tuning\u001b[39m\u001b[38;5;124m'\u001b[39m)\n",
      "\u001b[0;31mNameError\u001b[0m: name 'lgbm' is not defined"
     ]
    }
   ],
   "source": [
    "from sklearn.model_selection import RandomizedSearchCV\n",
    "\n",
    "lgbm_hyperparameter = {\n",
    "    'n_estimators': range(50, 501),\n",
    "    'num_leaves': range(20, 101),\n",
    "    'learning_rate': [0.001, 0.01, 0.1],\n",
    "    'max_depth': range(5, 21),\n",
    "    'subsample': [0.5, 0.6, 0.7, 0.8, 0.9, 1],\n",
    "    'colsample_bytree': [0.5, 0.6, 0.7, 0.8, 0.9, 1],\n",
    "    'reg_alpha': [0.2, 0.4, 0.6, 0.8, 1],\n",
    "    'reg_lambda': [0.2, 0.4, 0.6, 0.8, 1],\n",
    "    'objective': ['multiclass']\n",
    "}\n",
    "\n",
    "lgbm_search = RandomizedSearchCV(lgbm, lgbm_hyperparameter, n_iter=10, n_jobs=-1, random_state=8)\n",
    "lgbm_search.fit(X_train, y_train)\n",
    "\n",
    "print(f'LightGBM Hyperparameter Tuning')\n",
    "print(f'Best score\\t\\t: {lgbm_search.best_score_}')\n",
    "print(f'Best hyperparameter\\t: {lgbm_search.best_params_}')"
   ]
  },
  {
   "cell_type": "code",
   "execution_count": null,
   "id": "18c61fd2",
   "metadata": {},
   "outputs": [],
   "source": []
  }
 ],
 "metadata": {
  "kernelspec": {
   "display_name": "Python 3 (ipykernel)",
   "language": "python",
   "name": "python3"
  },
  "language_info": {
   "codemirror_mode": {
    "name": "ipython",
    "version": 3
   },
   "file_extension": ".py",
   "mimetype": "text/x-python",
   "name": "python",
   "nbconvert_exporter": "python",
   "pygments_lexer": "ipython3",
   "version": "3.10.9"
  }
 },
 "nbformat": 4,
 "nbformat_minor": 5
}
